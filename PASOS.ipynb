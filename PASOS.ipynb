{
 "cells": [
  {
   "cell_type": "markdown",
   "metadata": {},
   "source": [
    "PASOS PARA TDD\n"
   ]
  },
  {
   "cell_type": "markdown",
   "metadata": {},
   "source": [
    "TASK 1- CREAMOS LA ESTRUCTURA DE PYTHON UNIT TEST: \n",
    "\n",
    "        - Creamos el archivo: project_test.py. \n",
    "        - Importamos la librería interna unittest y creamos una clase que hereda de la clase TestCase de unittest\n",
    "        - Dentro, escribo un primer test que usa los métodos de TestCase y que va a fallar."
   ]
  },
  {
   "cell_type": "code",
   "execution_count": null,
   "metadata": {},
   "outputs": [],
   "source": [
    "import unittest\n",
    "\n",
    "\n",
    "class Project_test(unittest.TestCase):\n",
    "    def test_bsort(self):\n",
    "        self.assertEqual(0, 1)"
   ]
  },
  {
   "cell_type": "markdown",
   "metadata": {},
   "source": [
    "- Una vez ha fallado ese test y está todo bien configurado, pasamos al siguiente paso."
   ]
  },
  {
   "cell_type": "markdown",
   "metadata": {},
   "source": [
    "TASK 2. CREAMOS UNA UNIT TEST para una función que queresos construir\n",
    "\n",
    "    - Escribimos los requerimientos de la función.\n",
    "    - Escribimos una función stub para probar (fallará porque no está implementada)\n",
    "    - Escribimos una unit test \n",
    "    - Corremos la unit test y nos aseguramos de que falla"
   ]
  },
  {
   "cell_type": "code",
   "execution_count": null,
   "metadata": {},
   "outputs": [],
   "source": [
    "def bubblesort(list, desc=0):\n",
    "    # this function receives two parametres: a list to sort and a flag that says if it will be ascending or descending\n",
    "    return "
   ]
  },
  {
   "cell_type": "code",
   "execution_count": null,
   "metadata": {},
   "outputs": [],
   "source": [
    "import unittest\n",
    "\n",
    "\"\"\" Esto es por si el módulo no está en la misma carpeta\"\"\"\n",
    "\n",
    "import sys\n",
    "import os\n",
    "\n",
    "# Obtén el directorio padre y añádelo a sys.path\n",
    "sys.path.append(os.path.abspath(os.path.join(os.path.dirname(__file__), \"..\")))\n",
    "\n",
    "import bubblesort as st \n",
    "\"\"\" Importa el módulo donde estará nuestra función a probar\"\"\"\n",
    "\n",
    "\n",
    "class Project_test(unittest.TestCase):\n",
    "    def test_bsort(self):\n",
    "        test_list = [4, 3, 2, 1]\n",
    "        expected_list = [1, 2, 3, 4]\n",
    "        actual_list = st.bubblesort(test_list)\n",
    "        self.assertEqual(actual_list, expected_list)\n"
   ]
  },
  {
   "cell_type": "markdown",
   "metadata": {},
   "source": [
    "TASK 3. IMPLEMENTAMOS LA FUNCION Y VEMOS SI PASA LOS DIFERENTES TESTS.\n",
    "\n",
    "- Añade un test que compruebe si funciona.\n",
    "- Implementa la funcion.\n",
    "- Corre el test. \n",
    "- Cuando pase el test, prueba una mejora.\n",
    "- Corre el test...\n",
    "\n"
   ]
  },
  {
   "cell_type": "code",
   "execution_count": null,
   "metadata": {},
   "outputs": [],
   "source": [
    "def bubblesort(list, desc=0):\n",
    "    # this function receives two parametres: a list to sort and a flag that says if it will be ascending or descending\n",
    "    length = len(list)\n",
    "    for i in range(length -1):\n",
    "        for j in range(length - 1 - i):\n",
    "            if (list[j] > list [j+1]):\n",
    "                list[j], list[j+1] = list[j+1], list[j]\n",
    "    if desc==1:\n",
    "        list.reverse()\n",
    "    return list"
   ]
  },
  {
   "cell_type": "code",
   "execution_count": null,
   "metadata": {},
   "outputs": [],
   "source": [
    "    def test_bsort(self):\n",
    "        test_list = [4, 3, 2, 1]\n",
    "        expected_list = [1, 2, 3, 4]\n",
    "        actual_list = st.bubblesort(test_list)\n",
    "        self.assertEqual(actual_list, expected_list)\n",
    "\n",
    "    def test_desc(self):\n",
    "        test_list = [1, 2, 3, 4, 5]\n",
    "        expected_list = [5, 4, 3, 2, 1]\n",
    "        actual_list = st.bubblesort(test_list)\n",
    "        self.assertEqual(actual_list, expected_list)\n",
    "\n",
    "    def test_empty(self):\n",
    "        test_list = []\n",
    "        expected_list = []\n",
    "        actual_list = st.bubblesort(test_list)\n",
    "        self.assertEqual(actual_list, expected_list)"
   ]
  }
 ],
 "metadata": {
  "language_info": {
   "name": "python"
  }
 },
 "nbformat": 4,
 "nbformat_minor": 2
}
